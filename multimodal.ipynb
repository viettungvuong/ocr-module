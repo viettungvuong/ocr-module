{
 "cells": [
  {
   "cell_type": "markdown",
   "id": "1cf1c1f3",
   "metadata": {},
   "source": [
    "Ở đây mình sẽ dùng OpenRouter API để có thể access các LLM miễn phí"
   ]
  },
  {
   "cell_type": "code",
   "execution_count": 2,
   "id": "547144cf",
   "metadata": {},
   "outputs": [
    {
     "data": {
      "text/plain": [
       "True"
      ]
     },
     "execution_count": 2,
     "metadata": {},
     "output_type": "execute_result"
    }
   ],
   "source": [
    "import os\n",
    "from dotenv import load_dotenv\n",
    "import requests, json\n",
    "\n",
    "load_dotenv(\".env\", override=True)"
   ]
  },
  {
   "cell_type": "code",
   "execution_count": 3,
   "id": "f1e8ef73",
   "metadata": {},
   "outputs": [],
   "source": [
    "from typing import Any, List, Mapping, Optional\n",
    "\n",
    "from langchain.callbacks.manager import CallbackManagerForLLMRun\n",
    "from langchain.llms.base import LLM"
   ]
  },
  {
   "cell_type": "code",
   "execution_count": 38,
   "id": "0958ec7d",
   "metadata": {},
   "outputs": [],
   "source": [
    "import os\n",
    "import json\n",
    "import requests\n",
    "from typing import Any, List, Mapping, Optional\n",
    "from langchain.llms.base import LLM\n",
    "from langchain.callbacks.manager import CallbackManagerForLLMRun\n",
    "\n",
    "\n",
    "class CustomLLM(LLM):\n",
    "    n: int\n",
    "\n",
    "    @property\n",
    "    def _llm_type(self) -> str:\n",
    "        return \"custom_llm\"\n",
    "\n",
    "    def _call(\n",
    "        self,\n",
    "        prompt: str,\n",
    "        image_url: Optional[str] = None,  # Add optional image input\n",
    "        stop: Optional[List[str]] = None,\n",
    "        run_manager: Optional[CallbackManagerForLLMRun] = None,\n",
    "        **kwargs: Any,\n",
    "    ) -> str:\n",
    "\n",
    "        OPENROUTER_API_KEY = os.getenv(\"OPENROUTER_API_KEY\")\n",
    "        headers = {\n",
    "            \"Authorization\": f\"Bearer {OPENROUTER_API_KEY}\",\n",
    "            \"Content-Type\": \"application/json\",\n",
    "        }\n",
    "\n",
    "        # Constructing messages with or without an image\n",
    "        message_content = [{\"type\": \"text\", \"text\": prompt}]\n",
    "        if image_url:\n",
    "            message_content.append(\n",
    "                {\"type\": \"image_url\", \"image_url\": {\"url\": image_url}}\n",
    "            )\n",
    "\n",
    "        data = {\n",
    "            \"model\": \"google/gemini-2.5-pro-exp-03-25:free\",\n",
    "            \"messages\": [\n",
    "                {\n",
    "                    \"role\": \"user\",\n",
    "                    \"content\": message_content,\n",
    "                }\n",
    "            ],\n",
    "        }\n",
    "\n",
    "        response = requests.post(\n",
    "            \"https://openrouter.ai/api/v1/chat/completions\",\n",
    "            headers=headers,\n",
    "            data=json.dumps(data),\n",
    "        )\n",
    "        print(response.json())\n",
    "        output = response.json()[\"choices\"][0][\"message\"][\"content\"]\n",
    "\n",
    "        if stop is not None:\n",
    "            raise ValueError(\"stop kwargs are not permitted.\")\n",
    "        return output\n",
    "\n",
    "    @property\n",
    "    def _identifying_params(self) -> Mapping[str, Any]:\n",
    "        \"\"\"Get the identifying parameters.\"\"\"\n",
    "        return {\"n\": self.n}"
   ]
  },
  {
   "cell_type": "code",
   "execution_count": 39,
   "id": "9b366016",
   "metadata": {},
   "outputs": [],
   "source": [
    "llm = CustomLLM(n=1)"
   ]
  },
  {
   "cell_type": "code",
   "execution_count": null,
   "id": "65178f41",
   "metadata": {},
   "outputs": [
    {
     "name": "stdout",
     "output_type": "stream",
     "text": [
      "{'id': 'gen-1743263073-qOE1zPjclviER5j6qAms', 'provider': 'Google AI Studio', 'model': 'google/gemini-2.5-pro-exp-03-25', 'object': 'chat.completion', 'created': 1743263073, 'choices': [{'logprobs': None, 'finish_reason': 'stop', 'native_finish_reason': 'STOP', 'index': 0, 'message': {'role': 'assistant', 'content': \"This image shows a highly blurred abstract pattern.\\n\\nIt appears to be divided into four quadrants:\\n\\n*   **Top-left:** Blurry gray\\n*   **Top-right:** Blurry white\\n*   **Bottom-left:** Blurry white\\n*   **Bottom-right:** Blurry gray\\n\\nThe lines dividing the quadrants are also very soft and blurred, creating smooth transitions between the areas. Due to the extreme blurriness, it's impossible to tell if this is a heavily out-of-focus photograph of something specific or a deliberately created abstract graphic.\", 'refusal': None}}], 'usage': {'prompt_tokens': 270, 'completion_tokens': 118, 'total_tokens': 388}}\n",
      "This image shows a highly blurred abstract pattern.\n",
      "\n",
      "It appears to be divided into four quadrants:\n",
      "\n",
      "*   **Top-left:** Blurry gray\n",
      "*   **Top-right:** Blurry white\n",
      "*   **Bottom-left:** Blurry white\n",
      "*   **Bottom-right:** Blurry gray\n",
      "\n",
      "The lines dividing the quadrants are also very soft and blurred, creating smooth transitions between the areas. Due to the extreme blurriness, it's impossible to tell if this is a heavily out-of-focus photograph of something specific or a deliberately created abstract graphic.\n"
     ]
    }
   ],
   "source": [
    "text_prompt = \"What's in this image?\"\n",
    "image_url = \"data:image/png;base64,iVBORw0KGgoAAAANSUhEUgAAAAgAAAAIAQMAAAD+wSzIAAAABlBMVEX///+/v7+jQ3Y5AAAADklEQVQI12P4AIX8EAgALgAD/aNpbtEAAAAASUVORK5CYII\"\n",
    "\n",
    "response = llm._call(text_prompt, image_url=image_url)\n",
    "print(response)"
   ]
  }
 ],
 "metadata": {
  "kernelspec": {
   "display_name": "Python 3",
   "language": "python",
   "name": "python3"
  },
  "language_info": {
   "codemirror_mode": {
    "name": "ipython",
    "version": 3
   },
   "file_extension": ".py",
   "mimetype": "text/x-python",
   "name": "python",
   "nbconvert_exporter": "python",
   "pygments_lexer": "ipython3",
   "version": "3.11.2"
  }
 },
 "nbformat": 4,
 "nbformat_minor": 5
}
